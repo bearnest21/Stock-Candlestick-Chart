{
 "cells": [
  {
   "cell_type": "markdown",
   "metadata": {},
   "source": [
    "# Create Candlestick Chart with Moving Averages"
   ]
  },
  {
   "cell_type": "code",
   "execution_count": 15,
   "metadata": {},
   "outputs": [],
   "source": [
    "#install libraries\n",
    "import yfinance as yf\n",
    "import pandas as pd\n",
    "import matplotlib.pyplot as plt\n",
    "import matplotlib.dates as mdates\n",
    "from mplfinance.original_flavor import candlestick_ohlc\n",
    "import numpy as np\n",
    "import warnings"
   ]
  },
  {
   "cell_type": "code",
   "execution_count": 31,
   "metadata": {},
   "outputs": [],
   "source": [
    "def candlestick_chart(ticker, period, interval):\n",
    "    data = yf.download(ticker, period = period, interval = interval)\n",
    "\n",
    "    # Preparing the data for the candlestick chart\n",
    "    data.reset_index(inplace=True)\n",
    "    data['Date'] = data['Date'].map(mdates.date2num)\n",
    "\n",
    "    # Calculate moving averages\n",
    "    data['20d_MA'] = data['Close'].rolling(window=20).mean()\n",
    "    data['50d_MA'] = data['Close'].rolling(window=50).mean()\n",
    "    data['100d_MA'] = data['Close'].rolling(window=100).mean()\n",
    "    data['200d_MA'] = data['Close'].rolling(window=200).mean()\n",
    "\n",
    "    fig, ax = plt.subplots(figsize=(20, 10))\n",
    "\n",
    "    # Plotting the candlestick chart\n",
    "    candlestick_ohlc(ax, data[['Date', 'Open', 'High', 'Low', 'Close']].values, width=0.6, colorup='g', colordown='r')\n",
    "\n",
    "    # Plotting moving averages with labels\n",
    "    ax.plot(data['Date'], data['20d_MA'], label='20-Day MA', linewidth=2)\n",
    "    ax.plot(data['Date'], data['50d_MA'], label='50-Day MA', linewidth=2)\n",
    "    ax.plot(data['Date'], data['100d_MA'], label='100-Day MA', linewidth=2)\n",
    "    ax.plot(data['Date'], data['200d_MA'], label='200-Day MA', linewidth=2)\n",
    "\n",
    "\n",
    "    # Creating a secondary axis for volume\n",
    "    ax2 = ax.twinx()\n",
    "\n",
    "    # Scaling the volume axis\n",
    "    max_volume = data['Volume'].max()\n",
    "    ax2.set_ylim(0, 5*max_volume)\n",
    "\n",
    "    # Plotting volume as bars with a label\n",
    "    ax2.bar(data['Date'], data['Volume'], width=0.5, color='blue', alpha=0.3, label='Volume')\n",
    "\n",
    "    # Formatting the x-axis\n",
    "    ax.xaxis_date()\n",
    "    ax.xaxis.set_major_formatter(mdates.DateFormatter('%Y-%m-%d'))\n",
    "\n",
    "    # Labels and title\n",
    "    plt.xlabel('Date')\n",
    "    ax.set_ylabel('Price $')\n",
    "    ax2.set_ylabel('Volume')\n",
    "    plt.title(f'{ticker} Stock Candlestick Chart')\n",
    "    plt.xticks(rotation=45)\n",
    "\n",
    "    # Adding a manual legend entry for the candlesticks\n",
    "    from matplotlib.lines import Line2D\n",
    "    legend_elements = [Line2D([0], [0], color='g', lw=4, label='Candlestick'),\n",
    "                       Line2D([0], [0], color='blue', lw=4, label='Volume', alpha=0.3)] + ax.lines\n",
    "    ax.legend(handles=legend_elements, loc='upper left')\n",
    "\n",
    "    warnings.filterwarnings('ignore')\n",
    "\n",
    "    # Show plot\n",
    "    plt.show()"
   ]
  }
 ],
 "metadata": {
  "kernelspec": {
   "display_name": "Python 3",
   "language": "python",
   "name": "python3"
  },
  "language_info": {
   "codemirror_mode": {
    "name": "ipython",
    "version": 3
   },
   "file_extension": ".py",
   "mimetype": "text/x-python",
   "name": "python",
   "nbconvert_exporter": "python",
   "pygments_lexer": "ipython3",
   "version": "3.11.9"
  }
 },
 "nbformat": 4,
 "nbformat_minor": 2
}
